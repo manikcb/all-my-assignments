{
  "nbformat": 4,
  "nbformat_minor": 0,
  "metadata": {
    "colab": {
      "provenance": [],
      "authorship_tag": "ABX9TyOSonGTG0zuLgMQrZ+5/KU4",
      "include_colab_link": true
    },
    "kernelspec": {
      "name": "python3",
      "display_name": "Python 3"
    },
    "language_info": {
      "name": "python"
    },
    "accelerator": "TPU",
    "gpuClass": "standard"
  },
  "cells": [
    {
      "cell_type": "markdown",
      "metadata": {
        "id": "view-in-github",
        "colab_type": "text"
      },
      "source": [
        "<a href=\"https://colab.research.google.com/github/manikcb/all-my-assignments/blob/main/oops.ipynb\" target=\"_parent\"><img src=\"https://colab.research.google.com/assets/colab-badge.svg\" alt=\"Open In Colab\"/></a>"
      ]
    },
    {
      "cell_type": "code",
      "execution_count": 15,
      "metadata": {
        "colab": {
          "base_uri": "https://localhost:8080/"
        },
        "id": "FrfAxAoHs1Hg",
        "outputId": "429c45ee-1143-4232-fcda-1814ddb98f07"
      },
      "outputs": [
        {
          "output_type": "stream",
          "name": "stdout",
          "text": [
            "6\n",
            "-2\n",
            "8\n",
            "0.5\n"
          ]
        }
      ],
      "source": [
        "class cal:\n",
        "  def __init__(s,c1,c2,c3):\n",
        "    s.k1=c1\n",
        "    s.k2=c2\n",
        "    s.k3=c3\n",
        "  \n",
        "  def add(s):\n",
        "    print(s.k1+s.k3)\n",
        "  \n",
        "  def sub(s):\n",
        "    print(s.k1-s.k3)\n",
        "\n",
        "  def mul(s):\n",
        "    print(s.k1*s.k3)\n",
        "\n",
        "  def div(s):\n",
        "    print(s.k1/s.k3)\n",
        "\n",
        "calc=cal(2,1,4)\n",
        "calc.add()\n",
        "calc.sub()\n",
        "calc.mul()\n",
        "calc.div()\n"
      ]
    },
    {
      "cell_type": "code",
      "source": [
        "class college:\n",
        "  def __init__(s,c1,c2,c3):\n",
        "    s.k1=c1\n",
        "    s.k2=c2\n",
        "    s.k3=c3\n",
        "\n",
        "  def x(s,p,q,r):\n",
        "    #print(s.k1,s.k2,s.k3)\n",
        "    print(p,q,r,s.k1,s.k2,s.k3)\n",
        "\n",
        "g=college(2,4,6)\n",
        "print(g.k1)\n",
        "g.x(2,8,9)"
      ],
      "metadata": {
        "colab": {
          "base_uri": "https://localhost:8080/"
        },
        "id": "UjIDlntE4VI6",
        "outputId": "35cda107-6015-4f63-c6e9-d45e5041ec2a"
      },
      "execution_count": 24,
      "outputs": [
        {
          "output_type": "stream",
          "name": "stdout",
          "text": [
            "2\n",
            "2 8 9 2 4 6\n"
          ]
        }
      ]
    },
    {
      "cell_type": "code",
      "source": [
        "class election:\n",
        "  def __init__(s,inchargeno,voterno):\n",
        "    s.i=inchargeno\n",
        "    s.v=voterno\n",
        "\n",
        "  def voter(s):\n",
        "    print(s.i,s.v)\n",
        "\n",
        "w=election(2501,5897)\n",
        "w.voter()"
      ],
      "metadata": {
        "colab": {
          "base_uri": "https://localhost:8080/"
        },
        "id": "3r6J2A1870k2",
        "outputId": "1dbe4f65-b1ec-402e-e0d2-e856997607e9"
      },
      "execution_count": 28,
      "outputs": [
        {
          "output_type": "stream",
          "name": "stdout",
          "text": [
            "2501 5897\n"
          ]
        }
      ]
    },
    {
      "cell_type": "code",
      "source": [
        "class cal:\n",
        "  def __init__(s,a,b,c,d):\n",
        "    s.k1=a\n",
        "    s.k2=b\n",
        "    s.k3=c\n",
        "    s.k4=d\n",
        "  def sum(s,p,q):\n",
        "    print(s.k1+s.k2+s.k3+s.k4+p+q)\n",
        "\n",
        "  def sub(s,r,i):\n",
        "    print(s.k1-s.k2-s.k3-s.k4-r-i)\n",
        "\n",
        "x=cal(1,2,3,4)\n",
        "x.sum(4,5)\n",
        "x.sub(6,7)\n",
        "\n"
      ],
      "metadata": {
        "colab": {
          "base_uri": "https://localhost:8080/"
        },
        "id": "Utvac9EJ-48z",
        "outputId": "ff459bfd-30f9-4095-d3b7-78f6a1b8f95d"
      },
      "execution_count": 31,
      "outputs": [
        {
          "output_type": "stream",
          "name": "stdout",
          "text": [
            "19\n",
            "-21\n"
          ]
        }
      ]
    }
  ]
}