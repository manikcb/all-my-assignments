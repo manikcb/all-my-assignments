{
  "nbformat": 4,
  "nbformat_minor": 0,
  "metadata": {
    "colab": {
      "name": "Untitled3.ipynb",
      "provenance": [],
      "collapsed_sections": [],
      "authorship_tag": "ABX9TyOxEsejJ3QXWPNGWhlUp/fT",
      "include_colab_link": true
    },
    "kernelspec": {
      "name": "python3",
      "display_name": "Python 3"
    },
    "language_info": {
      "name": "python"
    }
  },
  "cells": [
    {
      "cell_type": "markdown",
      "metadata": {
        "id": "view-in-github",
        "colab_type": "text"
      },
      "source": [
        "<a href=\"https://colab.research.google.com/github/manikcb/all-my-assignments/blob/main/svm2.ipynb\" target=\"_parent\"><img src=\"https://colab.research.google.com/assets/colab-badge.svg\" alt=\"Open In Colab\"/></a>"
      ]
    },
    {
      "cell_type": "code",
      "execution_count": 1,
      "metadata": {
        "id": "ljEakhzrNJWX"
      },
      "outputs": [],
      "source": [
        "import pandas as pd\n",
        "from sklearn.model_selection import train_test_split\n",
        "from sklearn.svm import SVC\n",
        "\n",
        "from matplotlib import pyplot as plt"
      ]
    },
    {
      "cell_type": "code",
      "source": [
        "df = pd.read_csv(r\"/content/DATABASE-KERATOCONUS.csv\")"
      ],
      "metadata": {
        "id": "hn3omQ_zPT4n"
      },
      "execution_count": 64,
      "outputs": []
    },
    {
      "cell_type": "code",
      "source": [
        "df = df.drop(['K1 Eje','FECHA','Ojo', 'Grado QC','AVSC'],\n",
        "             axis=1) "
      ],
      "metadata": {
        "id": "U6tTrFwYQWXq"
      },
      "execution_count": 65,
      "outputs": []
    },
    {
      "cell_type": "code",
      "source": [
        "df.dtypes"
      ],
      "metadata": {
        "colab": {
          "base_uri": "https://localhost:8080/"
        },
        "id": "Es7BeyoyQ3vi",
        "outputId": "445a69de-40cc-41bf-f538-fc06cb06a499"
      },
      "execution_count": 24,
      "outputs": [
        {
          "output_type": "execute_result",
          "data": {
            "text/plain": [
              "ID                        int64\n",
              "Edad                      int64\n",
              "Sexo                     object\n",
              "Esfera                  float64\n",
              "Cilindro                float64\n",
              "Eje                     float64\n",
              "AVCC                    float64\n",
              "EQ. ESF                 float64\n",
              "K1                      float64\n",
              "K1 Eje                  float64\n",
              "K2                      float64\n",
              "K2 Eje                  float64\n",
              "Km                      float64\n",
              "KMAX                    float64\n",
              "Q                       float64\n",
              "IVA                     float64\n",
              "K1.1                    float64\n",
              "K1 Eje.1                float64\n",
              "K2.1                    float64\n",
              "K2 Eje.1                float64\n",
              "Km.1                    float64\n",
              "Q.1                     float64\n",
              "ECC                       int64\n",
              "ECMin                     int64\n",
              "X ECMin                 float64\n",
              "Y ECMin                 float64\n",
              "RMS Total               float64\n",
              "RMS HOA                 float64\n",
              "Astigm 2º CORNEA 0º     float64\n",
              "Astigm 2º CORNEA 45º    float64\n",
              "COMA ANT 0              float64\n",
              "COMA POST 0             float64\n",
              "COMA CORNEA 0           float64\n",
              "COMA ANT 90             float64\n",
              "COMA POST 90            float64\n",
              "COMA CORNEA 90          float64\n",
              "TREFOIL 0º              float64\n",
              "TREFOIL 30º             float64\n",
              "TETRAFOIL 0º            float64\n",
              "TETRAFOIL 22,5º         float64\n",
              "ABERR. ESF              float64\n",
              "FECHA                    object\n",
              "dtype: object"
            ]
          },
          "metadata": {},
          "execution_count": 24
        }
      ]
    },
    {
      "cell_type": "code",
      "source": [
        "df=pd.get_dummies(df, columns=['Sexo'])"
      ],
      "metadata": {
        "id": "955HSw5OTw_O"
      },
      "execution_count": 66,
      "outputs": []
    },
    {
      "cell_type": "code",
      "source": [
        "df.head(10)"
      ],
      "metadata": {
        "colab": {
          "base_uri": "https://localhost:8080/",
          "height": 491
        },
        "id": "hto_N68pT7ht",
        "outputId": "ccc0220d-f346-4f34-bc95-2a3c840d9166"
      },
      "execution_count": 67,
      "outputs": [
        {
          "output_type": "execute_result",
          "data": {
            "text/plain": [
              "     ID  Edad  Esfera  Cilindro    Eje  AVCC  EQ. ESF    K1    K2  K2 Eje  \\\n",
              "0  1001    24   -5.50     -1.50   30.0   1.0     -6.0  42.6  44.6   126.7   \n",
              "1  1002    24   -4.75     -2.75  170.0   1.0     -6.0  42.0  45.1    75.8   \n",
              "2  1003    20    1.00     -6.00    5.0   0.8     -2.0  41.7  48.3    91.9   \n",
              "3  1004    20    1.00     -6.00  170.0   0.9     -2.0  41.5  48.1    79.5   \n",
              "4  1005    23     NaN       NaN    NaN   1.0      NaN  41.9  42.9    97.5   \n",
              "5  1006    23   -2.00     -3.00  150.0   1.0     -3.5  41.3  43.9    62.6   \n",
              "6  1007    68    1.50     -3.00  115.0   1.0      NaN  44.4  45.7    26.8   \n",
              "7  1008    68    1.00     -4.50   70.0   1.0     -1.0  43.2  47.7   162.6   \n",
              "8  1009    60    1.00     -3.00  115.0   1.0      NaN  44.5  45.0    25.0   \n",
              "9  1010    60    1.50     -4.50   70.0   1.0     -1.0  43.0  47.0   171.0   \n",
              "\n",
              "   ...  COMA ANT 90  COMA POST 90  COMA CORNEA 90  TREFOIL 0º  TREFOIL 30º  \\\n",
              "0  ...       -0.362        -0.027          -0.429       0.110        0.038   \n",
              "1  ...       -0.126        -0.055           0.191       0.080       -0.047   \n",
              "2  ...        0.114        -0.026           0.113      -0.091       -0.037   \n",
              "3  ...        0.040        -0.065          -0.006       0.093        0.190   \n",
              "4  ...       -0.127         0.024          -0.129       0.050        0.158   \n",
              "5  ...       -0.052         0.012          -0.042       0.068       -0.055   \n",
              "6  ...        0.053        -0.022           0.045       0.056       -0.050   \n",
              "7  ...        0.013         0.018           0.047       0.200        0.085   \n",
              "8  ...        0.054        -0.040           0.045       0.056       -0.006   \n",
              "9  ...        0.012         0.016           0.047       0.200       -0.097   \n",
              "\n",
              "   TETRAFOIL 0º  TETRAFOIL 22,5º  ABERR. ESF  Sexo_H  Sexo_M  \n",
              "0        -0.035            0.122       0.253       1       0  \n",
              "1        -0.029           -0.047       0.201       1       0  \n",
              "2        -0.292            0.035      -0.085       1       0  \n",
              "3        -0.165            0.040      -0.068       1       0  \n",
              "4        -0.104           -0.138       0.131       0       1  \n",
              "5        -0.040            0.013       0.105       0       1  \n",
              "6        -0.077           -0.080       0.242       0       1  \n",
              "7        -0.054           -0.097       0.459       0       1  \n",
              "8         0.092           -0.018       0.249       0       1  \n",
              "9        -0.074           -0.091       0.440       0       1  \n",
              "\n",
              "[10 rows x 41 columns]"
            ],
            "text/html": [
              "\n",
              "  <div id=\"df-ce443174-d49a-4feb-aac4-be9f81ad00b5\">\n",
              "    <div class=\"colab-df-container\">\n",
              "      <div>\n",
              "<style scoped>\n",
              "    .dataframe tbody tr th:only-of-type {\n",
              "        vertical-align: middle;\n",
              "    }\n",
              "\n",
              "    .dataframe tbody tr th {\n",
              "        vertical-align: top;\n",
              "    }\n",
              "\n",
              "    .dataframe thead th {\n",
              "        text-align: right;\n",
              "    }\n",
              "</style>\n",
              "<table border=\"1\" class=\"dataframe\">\n",
              "  <thead>\n",
              "    <tr style=\"text-align: right;\">\n",
              "      <th></th>\n",
              "      <th>ID</th>\n",
              "      <th>Edad</th>\n",
              "      <th>Esfera</th>\n",
              "      <th>Cilindro</th>\n",
              "      <th>Eje</th>\n",
              "      <th>AVCC</th>\n",
              "      <th>EQ. ESF</th>\n",
              "      <th>K1</th>\n",
              "      <th>K2</th>\n",
              "      <th>K2 Eje</th>\n",
              "      <th>...</th>\n",
              "      <th>COMA ANT 90</th>\n",
              "      <th>COMA POST 90</th>\n",
              "      <th>COMA CORNEA 90</th>\n",
              "      <th>TREFOIL 0º</th>\n",
              "      <th>TREFOIL 30º</th>\n",
              "      <th>TETRAFOIL 0º</th>\n",
              "      <th>TETRAFOIL 22,5º</th>\n",
              "      <th>ABERR. ESF</th>\n",
              "      <th>Sexo_H</th>\n",
              "      <th>Sexo_M</th>\n",
              "    </tr>\n",
              "  </thead>\n",
              "  <tbody>\n",
              "    <tr>\n",
              "      <th>0</th>\n",
              "      <td>1001</td>\n",
              "      <td>24</td>\n",
              "      <td>-5.50</td>\n",
              "      <td>-1.50</td>\n",
              "      <td>30.0</td>\n",
              "      <td>1.0</td>\n",
              "      <td>-6.0</td>\n",
              "      <td>42.6</td>\n",
              "      <td>44.6</td>\n",
              "      <td>126.7</td>\n",
              "      <td>...</td>\n",
              "      <td>-0.362</td>\n",
              "      <td>-0.027</td>\n",
              "      <td>-0.429</td>\n",
              "      <td>0.110</td>\n",
              "      <td>0.038</td>\n",
              "      <td>-0.035</td>\n",
              "      <td>0.122</td>\n",
              "      <td>0.253</td>\n",
              "      <td>1</td>\n",
              "      <td>0</td>\n",
              "    </tr>\n",
              "    <tr>\n",
              "      <th>1</th>\n",
              "      <td>1002</td>\n",
              "      <td>24</td>\n",
              "      <td>-4.75</td>\n",
              "      <td>-2.75</td>\n",
              "      <td>170.0</td>\n",
              "      <td>1.0</td>\n",
              "      <td>-6.0</td>\n",
              "      <td>42.0</td>\n",
              "      <td>45.1</td>\n",
              "      <td>75.8</td>\n",
              "      <td>...</td>\n",
              "      <td>-0.126</td>\n",
              "      <td>-0.055</td>\n",
              "      <td>0.191</td>\n",
              "      <td>0.080</td>\n",
              "      <td>-0.047</td>\n",
              "      <td>-0.029</td>\n",
              "      <td>-0.047</td>\n",
              "      <td>0.201</td>\n",
              "      <td>1</td>\n",
              "      <td>0</td>\n",
              "    </tr>\n",
              "    <tr>\n",
              "      <th>2</th>\n",
              "      <td>1003</td>\n",
              "      <td>20</td>\n",
              "      <td>1.00</td>\n",
              "      <td>-6.00</td>\n",
              "      <td>5.0</td>\n",
              "      <td>0.8</td>\n",
              "      <td>-2.0</td>\n",
              "      <td>41.7</td>\n",
              "      <td>48.3</td>\n",
              "      <td>91.9</td>\n",
              "      <td>...</td>\n",
              "      <td>0.114</td>\n",
              "      <td>-0.026</td>\n",
              "      <td>0.113</td>\n",
              "      <td>-0.091</td>\n",
              "      <td>-0.037</td>\n",
              "      <td>-0.292</td>\n",
              "      <td>0.035</td>\n",
              "      <td>-0.085</td>\n",
              "      <td>1</td>\n",
              "      <td>0</td>\n",
              "    </tr>\n",
              "    <tr>\n",
              "      <th>3</th>\n",
              "      <td>1004</td>\n",
              "      <td>20</td>\n",
              "      <td>1.00</td>\n",
              "      <td>-6.00</td>\n",
              "      <td>170.0</td>\n",
              "      <td>0.9</td>\n",
              "      <td>-2.0</td>\n",
              "      <td>41.5</td>\n",
              "      <td>48.1</td>\n",
              "      <td>79.5</td>\n",
              "      <td>...</td>\n",
              "      <td>0.040</td>\n",
              "      <td>-0.065</td>\n",
              "      <td>-0.006</td>\n",
              "      <td>0.093</td>\n",
              "      <td>0.190</td>\n",
              "      <td>-0.165</td>\n",
              "      <td>0.040</td>\n",
              "      <td>-0.068</td>\n",
              "      <td>1</td>\n",
              "      <td>0</td>\n",
              "    </tr>\n",
              "    <tr>\n",
              "      <th>4</th>\n",
              "      <td>1005</td>\n",
              "      <td>23</td>\n",
              "      <td>NaN</td>\n",
              "      <td>NaN</td>\n",
              "      <td>NaN</td>\n",
              "      <td>1.0</td>\n",
              "      <td>NaN</td>\n",
              "      <td>41.9</td>\n",
              "      <td>42.9</td>\n",
              "      <td>97.5</td>\n",
              "      <td>...</td>\n",
              "      <td>-0.127</td>\n",
              "      <td>0.024</td>\n",
              "      <td>-0.129</td>\n",
              "      <td>0.050</td>\n",
              "      <td>0.158</td>\n",
              "      <td>-0.104</td>\n",
              "      <td>-0.138</td>\n",
              "      <td>0.131</td>\n",
              "      <td>0</td>\n",
              "      <td>1</td>\n",
              "    </tr>\n",
              "    <tr>\n",
              "      <th>5</th>\n",
              "      <td>1006</td>\n",
              "      <td>23</td>\n",
              "      <td>-2.00</td>\n",
              "      <td>-3.00</td>\n",
              "      <td>150.0</td>\n",
              "      <td>1.0</td>\n",
              "      <td>-3.5</td>\n",
              "      <td>41.3</td>\n",
              "      <td>43.9</td>\n",
              "      <td>62.6</td>\n",
              "      <td>...</td>\n",
              "      <td>-0.052</td>\n",
              "      <td>0.012</td>\n",
              "      <td>-0.042</td>\n",
              "      <td>0.068</td>\n",
              "      <td>-0.055</td>\n",
              "      <td>-0.040</td>\n",
              "      <td>0.013</td>\n",
              "      <td>0.105</td>\n",
              "      <td>0</td>\n",
              "      <td>1</td>\n",
              "    </tr>\n",
              "    <tr>\n",
              "      <th>6</th>\n",
              "      <td>1007</td>\n",
              "      <td>68</td>\n",
              "      <td>1.50</td>\n",
              "      <td>-3.00</td>\n",
              "      <td>115.0</td>\n",
              "      <td>1.0</td>\n",
              "      <td>NaN</td>\n",
              "      <td>44.4</td>\n",
              "      <td>45.7</td>\n",
              "      <td>26.8</td>\n",
              "      <td>...</td>\n",
              "      <td>0.053</td>\n",
              "      <td>-0.022</td>\n",
              "      <td>0.045</td>\n",
              "      <td>0.056</td>\n",
              "      <td>-0.050</td>\n",
              "      <td>-0.077</td>\n",
              "      <td>-0.080</td>\n",
              "      <td>0.242</td>\n",
              "      <td>0</td>\n",
              "      <td>1</td>\n",
              "    </tr>\n",
              "    <tr>\n",
              "      <th>7</th>\n",
              "      <td>1008</td>\n",
              "      <td>68</td>\n",
              "      <td>1.00</td>\n",
              "      <td>-4.50</td>\n",
              "      <td>70.0</td>\n",
              "      <td>1.0</td>\n",
              "      <td>-1.0</td>\n",
              "      <td>43.2</td>\n",
              "      <td>47.7</td>\n",
              "      <td>162.6</td>\n",
              "      <td>...</td>\n",
              "      <td>0.013</td>\n",
              "      <td>0.018</td>\n",
              "      <td>0.047</td>\n",
              "      <td>0.200</td>\n",
              "      <td>0.085</td>\n",
              "      <td>-0.054</td>\n",
              "      <td>-0.097</td>\n",
              "      <td>0.459</td>\n",
              "      <td>0</td>\n",
              "      <td>1</td>\n",
              "    </tr>\n",
              "    <tr>\n",
              "      <th>8</th>\n",
              "      <td>1009</td>\n",
              "      <td>60</td>\n",
              "      <td>1.00</td>\n",
              "      <td>-3.00</td>\n",
              "      <td>115.0</td>\n",
              "      <td>1.0</td>\n",
              "      <td>NaN</td>\n",
              "      <td>44.5</td>\n",
              "      <td>45.0</td>\n",
              "      <td>25.0</td>\n",
              "      <td>...</td>\n",
              "      <td>0.054</td>\n",
              "      <td>-0.040</td>\n",
              "      <td>0.045</td>\n",
              "      <td>0.056</td>\n",
              "      <td>-0.006</td>\n",
              "      <td>0.092</td>\n",
              "      <td>-0.018</td>\n",
              "      <td>0.249</td>\n",
              "      <td>0</td>\n",
              "      <td>1</td>\n",
              "    </tr>\n",
              "    <tr>\n",
              "      <th>9</th>\n",
              "      <td>1010</td>\n",
              "      <td>60</td>\n",
              "      <td>1.50</td>\n",
              "      <td>-4.50</td>\n",
              "      <td>70.0</td>\n",
              "      <td>1.0</td>\n",
              "      <td>-1.0</td>\n",
              "      <td>43.0</td>\n",
              "      <td>47.0</td>\n",
              "      <td>171.0</td>\n",
              "      <td>...</td>\n",
              "      <td>0.012</td>\n",
              "      <td>0.016</td>\n",
              "      <td>0.047</td>\n",
              "      <td>0.200</td>\n",
              "      <td>-0.097</td>\n",
              "      <td>-0.074</td>\n",
              "      <td>-0.091</td>\n",
              "      <td>0.440</td>\n",
              "      <td>0</td>\n",
              "      <td>1</td>\n",
              "    </tr>\n",
              "  </tbody>\n",
              "</table>\n",
              "<p>10 rows × 41 columns</p>\n",
              "</div>\n",
              "      <button class=\"colab-df-convert\" onclick=\"convertToInteractive('df-ce443174-d49a-4feb-aac4-be9f81ad00b5')\"\n",
              "              title=\"Convert this dataframe to an interactive table.\"\n",
              "              style=\"display:none;\">\n",
              "        \n",
              "  <svg xmlns=\"http://www.w3.org/2000/svg\" height=\"24px\"viewBox=\"0 0 24 24\"\n",
              "       width=\"24px\">\n",
              "    <path d=\"M0 0h24v24H0V0z\" fill=\"none\"/>\n",
              "    <path d=\"M18.56 5.44l.94 2.06.94-2.06 2.06-.94-2.06-.94-.94-2.06-.94 2.06-2.06.94zm-11 1L8.5 8.5l.94-2.06 2.06-.94-2.06-.94L8.5 2.5l-.94 2.06-2.06.94zm10 10l.94 2.06.94-2.06 2.06-.94-2.06-.94-.94-2.06-.94 2.06-2.06.94z\"/><path d=\"M17.41 7.96l-1.37-1.37c-.4-.4-.92-.59-1.43-.59-.52 0-1.04.2-1.43.59L10.3 9.45l-7.72 7.72c-.78.78-.78 2.05 0 2.83L4 21.41c.39.39.9.59 1.41.59.51 0 1.02-.2 1.41-.59l7.78-7.78 2.81-2.81c.8-.78.8-2.07 0-2.86zM5.41 20L4 18.59l7.72-7.72 1.47 1.35L5.41 20z\"/>\n",
              "  </svg>\n",
              "      </button>\n",
              "      \n",
              "  <style>\n",
              "    .colab-df-container {\n",
              "      display:flex;\n",
              "      flex-wrap:wrap;\n",
              "      gap: 12px;\n",
              "    }\n",
              "\n",
              "    .colab-df-convert {\n",
              "      background-color: #E8F0FE;\n",
              "      border: none;\n",
              "      border-radius: 50%;\n",
              "      cursor: pointer;\n",
              "      display: none;\n",
              "      fill: #1967D2;\n",
              "      height: 32px;\n",
              "      padding: 0 0 0 0;\n",
              "      width: 32px;\n",
              "    }\n",
              "\n",
              "    .colab-df-convert:hover {\n",
              "      background-color: #E2EBFA;\n",
              "      box-shadow: 0px 1px 2px rgba(60, 64, 67, 0.3), 0px 1px 3px 1px rgba(60, 64, 67, 0.15);\n",
              "      fill: #174EA6;\n",
              "    }\n",
              "\n",
              "    [theme=dark] .colab-df-convert {\n",
              "      background-color: #3B4455;\n",
              "      fill: #D2E3FC;\n",
              "    }\n",
              "\n",
              "    [theme=dark] .colab-df-convert:hover {\n",
              "      background-color: #434B5C;\n",
              "      box-shadow: 0px 1px 3px 1px rgba(0, 0, 0, 0.15);\n",
              "      filter: drop-shadow(0px 1px 2px rgba(0, 0, 0, 0.3));\n",
              "      fill: #FFFFFF;\n",
              "    }\n",
              "  </style>\n",
              "\n",
              "      <script>\n",
              "        const buttonEl =\n",
              "          document.querySelector('#df-ce443174-d49a-4feb-aac4-be9f81ad00b5 button.colab-df-convert');\n",
              "        buttonEl.style.display =\n",
              "          google.colab.kernel.accessAllowed ? 'block' : 'none';\n",
              "\n",
              "        async function convertToInteractive(key) {\n",
              "          const element = document.querySelector('#df-ce443174-d49a-4feb-aac4-be9f81ad00b5');\n",
              "          const dataTable =\n",
              "            await google.colab.kernel.invokeFunction('convertToInteractive',\n",
              "                                                     [key], {});\n",
              "          if (!dataTable) return;\n",
              "\n",
              "          const docLinkHtml = 'Like what you see? Visit the ' +\n",
              "            '<a target=\"_blank\" href=https://colab.research.google.com/notebooks/data_table.ipynb>data table notebook</a>'\n",
              "            + ' to learn more about interactive tables.';\n",
              "          element.innerHTML = '';\n",
              "          dataTable['output_type'] = 'display_data';\n",
              "          await google.colab.output.renderOutput(dataTable, element);\n",
              "          const docLink = document.createElement('div');\n",
              "          docLink.innerHTML = docLinkHtml;\n",
              "          element.appendChild(docLink);\n",
              "        }\n",
              "      </script>\n",
              "    </div>\n",
              "  </div>\n",
              "  "
            ]
          },
          "metadata": {},
          "execution_count": 67
        }
      ]
    },
    {
      "cell_type": "code",
      "source": [
        "X=df.drop(columns=['Sexo_H','Sexo_M','Esfera','Cilindro','Eje','EQ. ESF'])\n",
        "y = df['Sexo_H']"
      ],
      "metadata": {
        "id": "lox21i4_US9b"
      },
      "execution_count": 87,
      "outputs": []
    },
    {
      "cell_type": "code",
      "source": [
        "X_train, X_test, y_train, y_test = train_test_split(X, y, test_size=0.3)"
      ],
      "metadata": {
        "id": "csWlyefbVILj"
      },
      "execution_count": 88,
      "outputs": []
    },
    {
      "cell_type": "code",
      "source": [
        "print(len(X_train))\n",
        "print(len(X_test))"
      ],
      "metadata": {
        "colab": {
          "base_uri": "https://localhost:8080/"
        },
        "id": "fMCnX6uOVQva",
        "outputId": "5903e4cf-58f0-429d-e824-b81ea40cc892"
      },
      "execution_count": 89,
      "outputs": [
        {
          "output_type": "stream",
          "name": "stdout",
          "text": [
            "143\n",
            "62\n"
          ]
        }
      ]
    },
    {
      "cell_type": "code",
      "source": [
        "model = SVC(kernel='linear')"
      ],
      "metadata": {
        "id": "UD6t0RT2VVc9"
      },
      "execution_count": 90,
      "outputs": []
    },
    {
      "cell_type": "code",
      "source": [
        "X.dtypes"
      ],
      "metadata": {
        "colab": {
          "base_uri": "https://localhost:8080/"
        },
        "id": "rA9jBvSqVYrd",
        "outputId": "11ed940b-2f17-45ed-e371-5b95cee035cd"
      },
      "execution_count": 52,
      "outputs": [
        {
          "output_type": "execute_result",
          "data": {
            "text/plain": [
              "ID                        int64\n",
              "Edad                      int64\n",
              "AVCC                    float64\n",
              "K1                      float64\n",
              "K1 Eje                  float64\n",
              "K2                      float64\n",
              "K2 Eje                  float64\n",
              "Km                      float64\n",
              "KMAX                    float64\n",
              "Q                       float64\n",
              "IVA                     float64\n",
              "K1.1                    float64\n",
              "K1 Eje.1                float64\n",
              "K2.1                    float64\n",
              "K2 Eje.1                float64\n",
              "Km.1                    float64\n",
              "Q.1                     float64\n",
              "ECC                       int64\n",
              "ECMin                     int64\n",
              "X ECMin                 float64\n",
              "Y ECMin                 float64\n",
              "RMS Total               float64\n",
              "RMS HOA                 float64\n",
              "Astigm 2º CORNEA 0º     float64\n",
              "Astigm 2º CORNEA 45º    float64\n",
              "COMA ANT 0              float64\n",
              "COMA POST 0             float64\n",
              "COMA CORNEA 0           float64\n",
              "COMA ANT 90             float64\n",
              "COMA POST 90            float64\n",
              "COMA CORNEA 90          float64\n",
              "TREFOIL 0º              float64\n",
              "TREFOIL 30º             float64\n",
              "TETRAFOIL 0º            float64\n",
              "TETRAFOIL 22,5º         float64\n",
              "ABERR. ESF              float64\n",
              "dtype: object"
            ]
          },
          "metadata": {},
          "execution_count": 52
        }
      ]
    },
    {
      "cell_type": "code",
      "source": [
        "model.fit(X_train, y_train)"
      ],
      "metadata": {
        "colab": {
          "base_uri": "https://localhost:8080/"
        },
        "id": "CDycEODTV9iY",
        "outputId": "439bcb34-3eb3-485b-a123-6822f8856ec0"
      },
      "execution_count": 91,
      "outputs": [
        {
          "output_type": "execute_result",
          "data": {
            "text/plain": [
              "SVC(kernel='linear')"
            ]
          },
          "metadata": {},
          "execution_count": 91
        }
      ]
    },
    {
      "cell_type": "code",
      "source": [
        "predictions = model.predict(X_test)\n",
        "print(predictions)"
      ],
      "metadata": {
        "colab": {
          "base_uri": "https://localhost:8080/"
        },
        "id": "waFo7XqyXMfL",
        "outputId": "fdfbdaf0-f205-4ab4-abb9-e31af6d0b2ed"
      },
      "execution_count": 92,
      "outputs": [
        {
          "output_type": "stream",
          "name": "stdout",
          "text": [
            "[0 1 1 0 1 1 0 0 0 1 0 1 0 1 0 0 0 1 1 1 0 1 1 0 0 1 1 0 0 1 1 0 0 0 1 1 0\n",
            " 0 0 1 1 0 1 1 1 0 1 1 1 1 0 1 1 0 0 0 1 1 0 0 1 1]\n"
          ]
        }
      ]
    },
    {
      "cell_type": "code",
      "source": [
        "percentage = model.score(X_test, y_test)"
      ],
      "metadata": {
        "id": "iIqNWNRoXTd-"
      },
      "execution_count": 93,
      "outputs": []
    },
    {
      "cell_type": "code",
      "source": [
        "from sklearn.metrics import confusion_matrix\n",
        "res = confusion_matrix(y_test, predictions)\n",
        "print(\"Confusion Matrix\")\n",
        "print(res)\n",
        "print(f\"Test Set: {len(X_test)}\")\n",
        "print(f\"Accuracy = {percentage*100} %\")"
      ],
      "metadata": {
        "colab": {
          "base_uri": "https://localhost:8080/"
        },
        "id": "QkdQA0FJXXDX",
        "outputId": "9d06f736-ce12-4df6-f374-eceb06c04f2b"
      },
      "execution_count": 94,
      "outputs": [
        {
          "output_type": "stream",
          "name": "stdout",
          "text": [
            "Confusion Matrix\n",
            "[[20 15]\n",
            " [ 9 18]]\n",
            "Test Set: 62\n",
            "Accuracy = 61.29032258064516 %\n"
          ]
        }
      ]
    },
    {
      "cell_type": "code",
      "source": [
        "import seaborn as sns\n",
        "sns.heatmap(res, annot=True)"
      ],
      "metadata": {
        "colab": {
          "base_uri": "https://localhost:8080/",
          "height": 286
        },
        "id": "vJ6cCg_8Ze0x",
        "outputId": "36d1b02c-9a26-44f7-8235-0083ea1dc729"
      },
      "execution_count": 95,
      "outputs": [
        {
          "output_type": "execute_result",
          "data": {
            "text/plain": [
              "<matplotlib.axes._subplots.AxesSubplot at 0x7f045e01b090>"
            ]
          },
          "metadata": {},
          "execution_count": 95
        },
        {
          "output_type": "display_data",
          "data": {
            "text/plain": [
              "<Figure size 432x288 with 2 Axes>"
            ],
            "image/png": "[encoded data removed]"
          },
          "metadata": {
            "needs_background": "light"
          }
        }
      ]
    }
  ]
}