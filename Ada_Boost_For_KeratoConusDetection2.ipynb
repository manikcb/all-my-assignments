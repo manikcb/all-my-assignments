{
  "nbformat": 4,
  "nbformat_minor": 0,
  "metadata": {
    "colab": {
      "name": "Untitled6.ipynb",
      "provenance": [],
      "authorship_tag": "ABX9TyPRMSxIYAvv65zuWR9BsHAG",
      "include_colab_link": true
    },
    "kernelspec": {
      "name": "python3",
      "display_name": "Python 3"
    },
    "language_info": {
      "name": "python"
    }
  },
  "cells": [
    {
      "cell_type": "markdown",
      "metadata": {
        "id": "view-in-github",
        "colab_type": "text"
      },
      "source": [
        "<a href=\"https://colab.research.google.com/github/manikcb/all-my-assignments/blob/main/Ada_Boost_For_KeratoConusDetection2.ipynb\" target=\"_parent\"><img src=\"https://colab.research.google.com/assets/colab-badge.svg\" alt=\"Open In Colab\"/></a>"
      ]
    },
    {
      "cell_type": "code",
      "execution_count": null,
      "metadata": {
        "id": "o0XDx5E3KApI"
      },
      "outputs": [],
      "source": [
        ""
      ]
    },
    {
      "cell_type": "code",
      "execution_count": 1,
      "metadata": {
        "ExecuteTime": {
          "end_time": "2020-04-20T21:49:22.480683Z",
          "start_time": "2020-04-20T21:49:20.853714Z"
        },
        "id": "AKsVx2A4zLc3"
      },
      "outputs": [],
      "source": [
        "from sklearn.datasets import make_classification\n",
        "\n",
        "from sklearn.metrics import accuracy_score\n",
        "import numpy as np\n",
        "import pandas as pd\n",
        "import matplotlib.pyplot as plt\n",
        "from sklearn.base import clone\n",
        "from sklearn.base import BaseEstimator\n",
        "from sklearn.metrics import accuracy_score\n",
        "from sklearn.decomposition import PCA\n",
        "from sklearn.ensemble import AdaBoostClassifier\n",
        "from sklearn.model_selection import train_test_split\n",
        "from sklearn import metrics"
      ]
    },
    {
      "cell_type": "code",
      "source": [
        "def accuracy(y_true, y_pred):\n",
        "    accuracy = np.sum(y_true == y_pred) / len(y_true)\n",
        "    return accuracy"
      ],
      "metadata": {
        "id": "6cZRyRDDMY7Z"
      },
      "execution_count": 2,
      "outputs": []
    },
    {
      "cell_type": "code",
      "source": [
        ""
      ],
      "metadata": {
        "id": "ilXVZP0WMeKc"
      },
      "execution_count": null,
      "outputs": []
    },
    {
      "cell_type": "code",
      "source": [
        ""
      ],
      "metadata": {
        "id": "qGGTYaNvMjv-"
      },
      "execution_count": null,
      "outputs": []
    },
    {
      "cell_type": "code",
      "execution_count": 3,
      "metadata": {
        "ExecuteTime": {
          "end_time": "2020-04-20T21:49:23.035131Z",
          "start_time": "2020-04-20T21:49:22.893705Z"
        },
        "colab": {
          "base_uri": "https://localhost:8080/",
          "height": 334
        },
        "id": "Lc3FYOiezLc9",
        "outputId": "59102b7a-ea22-4a0a-d05f-6166f3981216"
      },
      "outputs": [
        {
          "output_type": "execute_result",
          "data": {
            "text/plain": [
              "   Edad  K    K1  K1 Eje    K2  K2 Eje    Km  KMAX     Q   IVA  ...  \\\n",
              "0    24  H  42.6    36.7  44.6   126.7  43.6  45.3 -0.17  0.14  ...   \n",
              "1    24  H  42.0   165.8  45.1    75.8  43.5  45.4 -0.27  0.07  ...   \n",
              "2    20  H  41.7     1.9  48.3    91.9  44.7  50.4 -0.50  0.18  ...   \n",
              "3    20  H  41.5   169.5  48.1    79.5  44.5  49.5 -0.52  0.17  ...   \n",
              "4    23  M  41.9     7.5  42.9    97.5  42.4  43.4 -0.36  0.21  ...   \n",
              "\n",
              "   COMA CORNEA 0  COMA ANT 90  COMA POST 90  COMA CORNEA 90  TREFOIL 0º  \\\n",
              "0         -0.007       -0.362        -0.027          -0.429       0.110   \n",
              "1          0.016       -0.126        -0.055           0.191       0.080   \n",
              "2         -0.141        0.114        -0.026           0.113      -0.091   \n",
              "3          0.251        0.040        -0.065          -0.006       0.093   \n",
              "4         -0.300       -0.127         0.024          -0.129       0.050   \n",
              "\n",
              "   TREFOIL 30º  TETRAFOIL 0º  TETRAFOIL 22,5º  ABERR. ESF  Status  \n",
              "0        0.038        -0.035            0.122       0.253       H  \n",
              "1       -0.047        -0.029           -0.047       0.201       H  \n",
              "2       -0.037        -0.292            0.035      -0.085       H  \n",
              "3        0.190        -0.165            0.040      -0.068       M  \n",
              "4        0.158        -0.104           -0.138       0.131       M  \n",
              "\n",
              "[5 rows x 36 columns]"
            ],
            "text/html": [
              "\n",
              "  <div id=\"df-2ca338ba-a8de-4fa9-83a8-98b65ea147c4\">\n",
              "    <div class=\"colab-df-container\">\n",
              "      <div>\n",
              "<style scoped>\n",
              "    .dataframe tbody tr th:only-of-type {\n",
              "        vertical-align: middle;\n",
              "    }\n",
              "\n",
              "    .dataframe tbody tr th {\n",
              "        vertical-align: top;\n",
              "    }\n",
              "\n",
              "    .dataframe thead th {\n",
              "        text-align: right;\n",
              "    }\n",
              "</style>\n",
              "<table border=\"1\" class=\"dataframe\">\n",
              "  <thead>\n",
              "    <tr style=\"text-align: right;\">\n",
              "      <th></th>\n",
              "      <th>Edad</th>\n",
              "      <th>K</th>\n",
              "      <th>K1</th>\n",
              "      <th>K1 Eje</th>\n",
              "      <th>K2</th>\n",
              "      <th>K2 Eje</th>\n",
              "      <th>Km</th>\n",
              "      <th>KMAX</th>\n",
              "      <th>Q</th>\n",
              "      <th>IVA</th>\n",
              "      <th>...</th>\n",
              "      <th>COMA CORNEA 0</th>\n",
              "      <th>COMA ANT 90</th>\n",
              "      <th>COMA POST 90</th>\n",
              "      <th>COMA CORNEA 90</th>\n",
              "      <th>TREFOIL 0º</th>\n",
              "      <th>TREFOIL 30º</th>\n",
              "      <th>TETRAFOIL 0º</th>\n",
              "      <th>TETRAFOIL 22,5º</th>\n",
              "      <th>ABERR. ESF</th>\n",
              "      <th>Status</th>\n",
              "    </tr>\n",
              "  </thead>\n",
              "  <tbody>\n",
              "    <tr>\n",
              "      <th>0</th>\n",
              "      <td>24</td>\n",
              "      <td>H</td>\n",
              "      <td>42.6</td>\n",
              "      <td>36.7</td>\n",
              "      <td>44.6</td>\n",
              "      <td>126.7</td>\n",
              "      <td>43.6</td>\n",
              "      <td>45.3</td>\n",
              "      <td>-0.17</td>\n",
              "      <td>0.14</td>\n",
              "      <td>...</td>\n",
              "      <td>-0.007</td>\n",
              "      <td>-0.362</td>\n",
              "      <td>-0.027</td>\n",
              "      <td>-0.429</td>\n",
              "      <td>0.110</td>\n",
              "      <td>0.038</td>\n",
              "      <td>-0.035</td>\n",
              "      <td>0.122</td>\n",
              "      <td>0.253</td>\n",
              "      <td>H</td>\n",
              "    </tr>\n",
              "    <tr>\n",
              "      <th>1</th>\n",
              "      <td>24</td>\n",
              "      <td>H</td>\n",
              "      <td>42.0</td>\n",
              "      <td>165.8</td>\n",
              "      <td>45.1</td>\n",
              "      <td>75.8</td>\n",
              "      <td>43.5</td>\n",
              "      <td>45.4</td>\n",
              "      <td>-0.27</td>\n",
              "      <td>0.07</td>\n",
              "      <td>...</td>\n",
              "      <td>0.016</td>\n",
              "      <td>-0.126</td>\n",
              "      <td>-0.055</td>\n",
              "      <td>0.191</td>\n",
              "      <td>0.080</td>\n",
              "      <td>-0.047</td>\n",
              "      <td>-0.029</td>\n",
              "      <td>-0.047</td>\n",
              "      <td>0.201</td>\n",
              "      <td>H</td>\n",
              "    </tr>\n",
              "    <tr>\n",
              "      <th>2</th>\n",
              "      <td>20</td>\n",
              "      <td>H</td>\n",
              "      <td>41.7</td>\n",
              "      <td>1.9</td>\n",
              "      <td>48.3</td>\n",
              "      <td>91.9</td>\n",
              "      <td>44.7</td>\n",
              "      <td>50.4</td>\n",
              "      <td>-0.50</td>\n",
              "      <td>0.18</td>\n",
              "      <td>...</td>\n",
              "      <td>-0.141</td>\n",
              "      <td>0.114</td>\n",
              "      <td>-0.026</td>\n",
              "      <td>0.113</td>\n",
              "      <td>-0.091</td>\n",
              "      <td>-0.037</td>\n",
              "      <td>-0.292</td>\n",
              "      <td>0.035</td>\n",
              "      <td>-0.085</td>\n",
              "      <td>H</td>\n",
              "    </tr>\n",
              "    <tr>\n",
              "      <th>3</th>\n",
              "      <td>20</td>\n",
              "      <td>H</td>\n",
              "      <td>41.5</td>\n",
              "      <td>169.5</td>\n",
              "      <td>48.1</td>\n",
              "      <td>79.5</td>\n",
              "      <td>44.5</td>\n",
              "      <td>49.5</td>\n",
              "      <td>-0.52</td>\n",
              "      <td>0.17</td>\n",
              "      <td>...</td>\n",
              "      <td>0.251</td>\n",
              "      <td>0.040</td>\n",
              "      <td>-0.065</td>\n",
              "      <td>-0.006</td>\n",
              "      <td>0.093</td>\n",
              "      <td>0.190</td>\n",
              "      <td>-0.165</td>\n",
              "      <td>0.040</td>\n",
              "      <td>-0.068</td>\n",
              "      <td>M</td>\n",
              "    </tr>\n",
              "    <tr>\n",
              "      <th>4</th>\n",
              "      <td>23</td>\n",
              "      <td>M</td>\n",
              "      <td>41.9</td>\n",
              "      <td>7.5</td>\n",
              "      <td>42.9</td>\n",
              "      <td>97.5</td>\n",
              "      <td>42.4</td>\n",
              "      <td>43.4</td>\n",
              "      <td>-0.36</td>\n",
              "      <td>0.21</td>\n",
              "      <td>...</td>\n",
              "      <td>-0.300</td>\n",
              "      <td>-0.127</td>\n",
              "      <td>0.024</td>\n",
              "      <td>-0.129</td>\n",
              "      <td>0.050</td>\n",
              "      <td>0.158</td>\n",
              "      <td>-0.104</td>\n",
              "      <td>-0.138</td>\n",
              "      <td>0.131</td>\n",
              "      <td>M</td>\n",
              "    </tr>\n",
              "  </tbody>\n",
              "</table>\n",
              "<p>5 rows × 36 columns</p>\n",
              "</div>\n",
              "      <button class=\"colab-df-convert\" onclick=\"convertToInteractive('df-2ca338ba-a8de-4fa9-83a8-98b65ea147c4')\"\n",
              "              title=\"Convert this dataframe to an interactive table.\"\n",
              "              style=\"display:none;\">\n",
              "        \n",
              "  <svg xmlns=\"http://www.w3.org/2000/svg\" height=\"24px\"viewBox=\"0 0 24 24\"\n",
              "       width=\"24px\">\n",
              "    <path d=\"M0 0h24v24H0V0z\" fill=\"none\"/>\n",
              "    <path d=\"M18.56 5.44l.94 2.06.94-2.06 2.06-.94-2.06-.94-.94-2.06-.94 2.06-2.06.94zm-11 1L8.5 8.5l.94-2.06 2.06-.94-2.06-.94L8.5 2.5l-.94 2.06-2.06.94zm10 10l.94 2.06.94-2.06 2.06-.94-2.06-.94-.94-2.06-.94 2.06-2.06.94z\"/><path d=\"M17.41 7.96l-1.37-1.37c-.4-.4-.92-.59-1.43-.59-.52 0-1.04.2-1.43.59L10.3 9.45l-7.72 7.72c-.78.78-.78 2.05 0 2.83L4 21.41c.39.39.9.59 1.41.59.51 0 1.02-.2 1.41-.59l7.78-7.78 2.81-2.81c.8-.78.8-2.07 0-2.86zM5.41 20L4 18.59l7.72-7.72 1.47 1.35L5.41 20z\"/>\n",
              "  </svg>\n",
              "      </button>\n",
              "      \n",
              "  <style>\n",
              "    .colab-df-container {\n",
              "      display:flex;\n",
              "      flex-wrap:wrap;\n",
              "      gap: 12px;\n",
              "    }\n",
              "\n",
              "    .colab-df-convert {\n",
              "      background-color: #E8F0FE;\n",
              "      border: none;\n",
              "      border-radius: 50%;\n",
              "      cursor: pointer;\n",
              "      display: none;\n",
              "      fill: #1967D2;\n",
              "      height: 32px;\n",
              "      padding: 0 0 0 0;\n",
              "      width: 32px;\n",
              "    }\n",
              "\n",
              "    .colab-df-convert:hover {\n",
              "      background-color: #E2EBFA;\n",
              "      box-shadow: 0px 1px 2px rgba(60, 64, 67, 0.3), 0px 1px 3px 1px rgba(60, 64, 67, 0.15);\n",
              "      fill: #174EA6;\n",
              "    }\n",
              "\n",
              "    [theme=dark] .colab-df-convert {\n",
              "      background-color: #3B4455;\n",
              "      fill: #D2E3FC;\n",
              "    }\n",
              "\n",
              "    [theme=dark] .colab-df-convert:hover {\n",
              "      background-color: #434B5C;\n",
              "      box-shadow: 0px 1px 3px 1px rgba(0, 0, 0, 0.15);\n",
              "      filter: drop-shadow(0px 1px 2px rgba(0, 0, 0, 0.3));\n",
              "      fill: #FFFFFF;\n",
              "    }\n",
              "  </style>\n",
              "\n",
              "      <script>\n",
              "        const buttonEl =\n",
              "          document.querySelector('#df-2ca338ba-a8de-4fa9-83a8-98b65ea147c4 button.colab-df-convert');\n",
              "        buttonEl.style.display =\n",
              "          google.colab.kernel.accessAllowed ? 'block' : 'none';\n",
              "\n",
              "        async function convertToInteractive(key) {\n",
              "          const element = document.querySelector('#df-2ca338ba-a8de-4fa9-83a8-98b65ea147c4');\n",
              "          const dataTable =\n",
              "            await google.colab.kernel.invokeFunction('convertToInteractive',\n",
              "                                                     [key], {});\n",
              "          if (!dataTable) return;\n",
              "\n",
              "          const docLinkHtml = 'Like what you see? Visit the ' +\n",
              "            '<a target=\"_blank\" href=https://colab.research.google.com/notebooks/data_table.ipynb>data table notebook</a>'\n",
              "            + ' to learn more about interactive tables.';\n",
              "          element.innerHTML = '';\n",
              "          dataTable['output_type'] = 'display_data';\n",
              "          await google.colab.output.renderOutput(dataTable, element);\n",
              "          const docLink = document.createElement('div');\n",
              "          docLink.innerHTML = docLinkHtml;\n",
              "          element.appendChild(docLink);\n",
              "        }\n",
              "      </script>\n",
              "    </div>\n",
              "  </div>\n",
              "  "
            ]
          },
          "metadata": {},
          "execution_count": 3
        }
      ],
      "source": [
        "df= pd.read_csv(r'/content/KeratoConusDATASET.csv')\n",
        "df.head()"
      ]
    },
    {
      "cell_type": "code",
      "source": [
        "df=pd.get_dummies(df, columns=['K','Status'])\n",
        "c1 = df.pop('Status_H')\n",
        "c2 = df.pop('K_H')\n",
        "c3 = df.pop('K_M')\n",
        "c4 = df.pop('Status_M')\n",
        "df.insert(13, 'Status_H', c1)\n",
        "df.insert(14, 'K_H', c2)\n",
        "df.insert(15, 'K_M', c3)\n",
        "df.insert(16, 'Status_M', c4)\n",
        "df.head(10)"
      ],
      "metadata": {
        "colab": {
          "base_uri": "https://localhost:8080/",
          "height": 491
        },
        "id": "kEK_4SwXM568",
        "outputId": "ce8c4f7c-e9fc-4c7e-c92a-5c4bde19a368"
      },
      "execution_count": 4,
      "outputs": [
        {
          "output_type": "execute_result",
          "data": {
            "text/plain": [
              "   Edad    K1  K1 Eje    K2  K2 Eje    Km  KMAX     Q   IVA  K1.1  ...  \\\n",
              "0    24  42.6    36.7  44.6   126.7  43.6  45.3 -0.17  0.14  -5.9  ...   \n",
              "1    24  42.0   165.8  45.1    75.8  43.5  45.4 -0.27  0.07  -5.8  ...   \n",
              "2    20  41.7     1.9  48.3    91.9  44.7  50.4 -0.50  0.18  -5.9  ...   \n",
              "3    20  41.5   169.5  48.1    79.5  44.5  49.5 -0.52  0.17  -5.9  ...   \n",
              "4    23  41.9     7.5  42.9    97.5  42.4  43.4 -0.36  0.21  -6.2  ...   \n",
              "5    23  41.3   152.6  43.9    62.6  42.6  44.5 -0.27  0.18  -6.0  ...   \n",
              "6    68  44.4   116.8  45.7    26.8  45.1  46.4 -0.17  0.08  -6.3  ...   \n",
              "7    68  43.2    72.6  47.7   162.6  45.3  47.9 -0.14  0.05  -6.3  ...   \n",
              "8    60  44.5   115.0  45.0    25.0  45.0  46.7 -0.11  0.08  -6.1  ...   \n",
              "9    60  43.0    81.0  47.0   171.0  45.4  48.0 -0.15  0.04  -6.3  ...   \n",
              "\n",
              "   COMA POST 0  COMA CORNEA 0  COMA ANT 90  COMA POST 90  COMA CORNEA 90  \\\n",
              "0       -0.026         -0.007       -0.362        -0.027          -0.429   \n",
              "1        0.039          0.016       -0.126        -0.055           0.191   \n",
              "2        0.002         -0.141        0.114        -0.026           0.113   \n",
              "3        0.015          0.251        0.040        -0.065          -0.006   \n",
              "4        0.039         -0.300       -0.127         0.024          -0.129   \n",
              "5       -0.018          0.270       -0.052         0.012          -0.042   \n",
              "6        0.026         -0.099        0.053        -0.022           0.045   \n",
              "7        0.004          0.007        0.013         0.018           0.047   \n",
              "8        0.024         -0.090        0.054        -0.040           0.045   \n",
              "9        0.004          0.006        0.012         0.016           0.047   \n",
              "\n",
              "   TREFOIL 0º  TREFOIL 30º  TETRAFOIL 0º  TETRAFOIL 22,5º  ABERR. ESF  \n",
              "0       0.110        0.038        -0.035            0.122       0.253  \n",
              "1       0.080       -0.047        -0.029           -0.047       0.201  \n",
              "2      -0.091       -0.037        -0.292            0.035      -0.085  \n",
              "3       0.093        0.190        -0.165            0.040      -0.068  \n",
              "4       0.050        0.158        -0.104           -0.138       0.131  \n",
              "5       0.068       -0.055        -0.040            0.013       0.105  \n",
              "6       0.056       -0.050        -0.077           -0.080       0.242  \n",
              "7       0.200        0.085        -0.054           -0.097       0.459  \n",
              "8       0.056       -0.006         0.092           -0.018       0.249  \n",
              "9       0.200       -0.097        -0.074           -0.091       0.440  \n",
              "\n",
              "[10 rows x 38 columns]"
            ],
            "text/html": [
              "\n",
              "  <div id=\"df-1f50d954-09d2-4107-b28b-193fa7a6e456\">\n",
              "    <div class=\"colab-df-container\">\n",
              "      <div>\n",
              "<style scoped>\n",
              "    .dataframe tbody tr th:only-of-type {\n",
              "        vertical-align: middle;\n",
              "    }\n",
              "\n",
              "    .dataframe tbody tr th {\n",
              "        vertical-align: top;\n",
              "    }\n",
              "\n",
              "    .dataframe thead th {\n",
              "        text-align: right;\n",
              "    }\n",
              "</style>\n",
              "<table border=\"1\" class=\"dataframe\">\n",
              "  <thead>\n",
              "    <tr style=\"text-align: right;\">\n",
              "      <th></th>\n",
              "      <th>Edad</th>\n",
              "      <th>K1</th>\n",
              "      <th>K1 Eje</th>\n",
              "      <th>K2</th>\n",
              "      <th>K2 Eje</th>\n",
              "      <th>Km</th>\n",
              "      <th>KMAX</th>\n",
              "      <th>Q</th>\n",
              "      <th>IVA</th>\n",
              "      <th>K1.1</th>\n",
              "      <th>...</th>\n",
              "      <th>COMA POST 0</th>\n",
              "      <th>COMA CORNEA 0</th>\n",
              "      <th>COMA ANT 90</th>\n",
              "      <th>COMA POST 90</th>\n",
              "      <th>COMA CORNEA 90</th>\n",
              "      <th>TREFOIL 0º</th>\n",
              "      <th>TREFOIL 30º</th>\n",
              "      <th>TETRAFOIL 0º</th>\n",
              "      <th>TETRAFOIL 22,5º</th>\n",
              "      <th>ABERR. ESF</th>\n",
              "    </tr>\n",
              "  </thead>\n",
              "  <tbody>\n",
              "    <tr>\n",
              "      <th>0</th>\n",
              "      <td>24</td>\n",
              "      <td>42.6</td>\n",
              "      <td>36.7</td>\n",
              "      <td>44.6</td>\n",
              "      <td>126.7</td>\n",
              "      <td>43.6</td>\n",
              "      <td>45.3</td>\n",
              "      <td>-0.17</td>\n",
              "      <td>0.14</td>\n",
              "      <td>-5.9</td>\n",
              "      <td>...</td>\n",
              "      <td>-0.026</td>\n",
              "      <td>-0.007</td>\n",
              "      <td>-0.362</td>\n",
              "      <td>-0.027</td>\n",
              "      <td>-0.429</td>\n",
              "      <td>0.110</td>\n",
              "      <td>0.038</td>\n",
              "      <td>-0.035</td>\n",
              "      <td>0.122</td>\n",
              "      <td>0.253</td>\n",
              "    </tr>\n",
              "    <tr>\n",
              "      <th>1</th>\n",
              "      <td>24</td>\n",
              "      <td>42.0</td>\n",
              "      <td>165.8</td>\n",
              "      <td>45.1</td>\n",
              "      <td>75.8</td>\n",
              "      <td>43.5</td>\n",
              "      <td>45.4</td>\n",
              "      <td>-0.27</td>\n",
              "      <td>0.07</td>\n",
              "      <td>-5.8</td>\n",
              "      <td>...</td>\n",
              "      <td>0.039</td>\n",
              "      <td>0.016</td>\n",
              "      <td>-0.126</td>\n",
              "      <td>-0.055</td>\n",
              "      <td>0.191</td>\n",
              "      <td>0.080</td>\n",
              "      <td>-0.047</td>\n",
              "      <td>-0.029</td>\n",
              "      <td>-0.047</td>\n",
              "      <td>0.201</td>\n",
              "    </tr>\n",
              "    <tr>\n",
              "      <th>2</th>\n",
              "      <td>20</td>\n",
              "      <td>41.7</td>\n",
              "      <td>1.9</td>\n",
              "      <td>48.3</td>\n",
              "      <td>91.9</td>\n",
              "      <td>44.7</td>\n",
              "      <td>50.4</td>\n",
              "      <td>-0.50</td>\n",
              "      <td>0.18</td>\n",
              "      <td>-5.9</td>\n",
              "      <td>...</td>\n",
              "      <td>0.002</td>\n",
              "      <td>-0.141</td>\n",
              "      <td>0.114</td>\n",
              "      <td>-0.026</td>\n",
              "      <td>0.113</td>\n",
              "      <td>-0.091</td>\n",
              "      <td>-0.037</td>\n",
              "      <td>-0.292</td>\n",
              "      <td>0.035</td>\n",
              "      <td>-0.085</td>\n",
              "    </tr>\n",
              "    <tr>\n",
              "      <th>3</th>\n",
              "      <td>20</td>\n",
              "      <td>41.5</td>\n",
              "      <td>169.5</td>\n",
              "      <td>48.1</td>\n",
              "      <td>79.5</td>\n",
              "      <td>44.5</td>\n",
              "      <td>49.5</td>\n",
              "      <td>-0.52</td>\n",
              "      <td>0.17</td>\n",
              "      <td>-5.9</td>\n",
              "      <td>...</td>\n",
              "      <td>0.015</td>\n",
              "      <td>0.251</td>\n",
              "      <td>0.040</td>\n",
              "      <td>-0.065</td>\n",
              "      <td>-0.006</td>\n",
              "      <td>0.093</td>\n",
              "      <td>0.190</td>\n",
              "      <td>-0.165</td>\n",
              "      <td>0.040</td>\n",
              "      <td>-0.068</td>\n",
              "    </tr>\n",
              "    <tr>\n",
              "      <th>4</th>\n",
              "      <td>23</td>\n",
              "      <td>41.9</td>\n",
              "      <td>7.5</td>\n",
              "      <td>42.9</td>\n",
              "      <td>97.5</td>\n",
              "      <td>42.4</td>\n",
              "      <td>43.4</td>\n",
              "      <td>-0.36</td>\n",
              "      <td>0.21</td>\n",
              "      <td>-6.2</td>\n",
              "      <td>...</td>\n",
              "      <td>0.039</td>\n",
              "      <td>-0.300</td>\n",
              "      <td>-0.127</td>\n",
              "      <td>0.024</td>\n",
              "      <td>-0.129</td>\n",
              "      <td>0.050</td>\n",
              "      <td>0.158</td>\n",
              "      <td>-0.104</td>\n",
              "      <td>-0.138</td>\n",
              "      <td>0.131</td>\n",
              "    </tr>\n",
              "    <tr>\n",
              "      <th>5</th>\n",
              "      <td>23</td>\n",
              "      <td>41.3</td>\n",
              "      <td>152.6</td>\n",
              "      <td>43.9</td>\n",
              "      <td>62.6</td>\n",
              "      <td>42.6</td>\n",
              "      <td>44.5</td>\n",
              "      <td>-0.27</td>\n",
              "      <td>0.18</td>\n",
              "      <td>-6.0</td>\n",
              "      <td>...</td>\n",
              "      <td>-0.018</td>\n",
              "      <td>0.270</td>\n",
              "      <td>-0.052</td>\n",
              "      <td>0.012</td>\n",
              "      <td>-0.042</td>\n",
              "      <td>0.068</td>\n",
              "      <td>-0.055</td>\n",
              "      <td>-0.040</td>\n",
              "      <td>0.013</td>\n",
              "      <td>0.105</td>\n",
              "    </tr>\n",
              "    <tr>\n",
              "      <th>6</th>\n",
              "      <td>68</td>\n",
              "      <td>44.4</td>\n",
              "      <td>116.8</td>\n",
              "      <td>45.7</td>\n",
              "      <td>26.8</td>\n",
              "      <td>45.1</td>\n",
              "      <td>46.4</td>\n",
              "      <td>-0.17</td>\n",
              "      <td>0.08</td>\n",
              "      <td>-6.3</td>\n",
              "      <td>...</td>\n",
              "      <td>0.026</td>\n",
              "      <td>-0.099</td>\n",
              "      <td>0.053</td>\n",
              "      <td>-0.022</td>\n",
              "      <td>0.045</td>\n",
              "      <td>0.056</td>\n",
              "      <td>-0.050</td>\n",
              "      <td>-0.077</td>\n",
              "      <td>-0.080</td>\n",
              "      <td>0.242</td>\n",
              "    </tr>\n",
              "    <tr>\n",
              "      <th>7</th>\n",
              "      <td>68</td>\n",
              "      <td>43.2</td>\n",
              "      <td>72.6</td>\n",
              "      <td>47.7</td>\n",
              "      <td>162.6</td>\n",
              "      <td>45.3</td>\n",
              "      <td>47.9</td>\n",
              "      <td>-0.14</td>\n",
              "      <td>0.05</td>\n",
              "      <td>-6.3</td>\n",
              "      <td>...</td>\n",
              "      <td>0.004</td>\n",
              "      <td>0.007</td>\n",
              "      <td>0.013</td>\n",
              "      <td>0.018</td>\n",
              "      <td>0.047</td>\n",
              "      <td>0.200</td>\n",
              "      <td>0.085</td>\n",
              "      <td>-0.054</td>\n",
              "      <td>-0.097</td>\n",
              "      <td>0.459</td>\n",
              "    </tr>\n",
              "    <tr>\n",
              "      <th>8</th>\n",
              "      <td>60</td>\n",
              "      <td>44.5</td>\n",
              "      <td>115.0</td>\n",
              "      <td>45.0</td>\n",
              "      <td>25.0</td>\n",
              "      <td>45.0</td>\n",
              "      <td>46.7</td>\n",
              "      <td>-0.11</td>\n",
              "      <td>0.08</td>\n",
              "      <td>-6.1</td>\n",
              "      <td>...</td>\n",
              "      <td>0.024</td>\n",
              "      <td>-0.090</td>\n",
              "      <td>0.054</td>\n",
              "      <td>-0.040</td>\n",
              "      <td>0.045</td>\n",
              "      <td>0.056</td>\n",
              "      <td>-0.006</td>\n",
              "      <td>0.092</td>\n",
              "      <td>-0.018</td>\n",
              "      <td>0.249</td>\n",
              "    </tr>\n",
              "    <tr>\n",
              "      <th>9</th>\n",
              "      <td>60</td>\n",
              "      <td>43.0</td>\n",
              "      <td>81.0</td>\n",
              "      <td>47.0</td>\n",
              "      <td>171.0</td>\n",
              "      <td>45.4</td>\n",
              "      <td>48.0</td>\n",
              "      <td>-0.15</td>\n",
              "      <td>0.04</td>\n",
              "      <td>-6.3</td>\n",
              "      <td>...</td>\n",
              "      <td>0.004</td>\n",
              "      <td>0.006</td>\n",
              "      <td>0.012</td>\n",
              "      <td>0.016</td>\n",
              "      <td>0.047</td>\n",
              "      <td>0.200</td>\n",
              "      <td>-0.097</td>\n",
              "      <td>-0.074</td>\n",
              "      <td>-0.091</td>\n",
              "      <td>0.440</td>\n",
              "    </tr>\n",
              "  </tbody>\n",
              "</table>\n",
              "<p>10 rows × 38 columns</p>\n",
              "</div>\n",
              "      <button class=\"colab-df-convert\" onclick=\"convertToInteractive('df-1f50d954-09d2-4107-b28b-193fa7a6e456')\"\n",
              "              title=\"Convert this dataframe to an interactive table.\"\n",
              "              style=\"display:none;\">\n",
              "        \n",
              "  <svg xmlns=\"http://www.w3.org/2000/svg\" height=\"24px\"viewBox=\"0 0 24 24\"\n",
              "       width=\"24px\">\n",
              "    <path d=\"M0 0h24v24H0V0z\" fill=\"none\"/>\n",
              "    <path d=\"M18.56 5.44l.94 2.06.94-2.06 2.06-.94-2.06-.94-.94-2.06-.94 2.06-2.06.94zm-11 1L8.5 8.5l.94-2.06 2.06-.94-2.06-.94L8.5 2.5l-.94 2.06-2.06.94zm10 10l.94 2.06.94-2.06 2.06-.94-2.06-.94-.94-2.06-.94 2.06-2.06.94z\"/><path d=\"M17.41 7.96l-1.37-1.37c-.4-.4-.92-.59-1.43-.59-.52 0-1.04.2-1.43.59L10.3 9.45l-7.72 7.72c-.78.78-.78 2.05 0 2.83L4 21.41c.39.39.9.59 1.41.59.51 0 1.02-.2 1.41-.59l7.78-7.78 2.81-2.81c.8-.78.8-2.07 0-2.86zM5.41 20L4 18.59l7.72-7.72 1.47 1.35L5.41 20z\"/>\n",
              "  </svg>\n",
              "      </button>\n",
              "      \n",
              "  <style>\n",
              "    .colab-df-container {\n",
              "      display:flex;\n",
              "      flex-wrap:wrap;\n",
              "      gap: 12px;\n",
              "    }\n",
              "\n",
              "    .colab-df-convert {\n",
              "      background-color: #E8F0FE;\n",
              "      border: none;\n",
              "      border-radius: 50%;\n",
              "      cursor: pointer;\n",
              "      display: none;\n",
              "      fill: #1967D2;\n",
              "      height: 32px;\n",
              "      padding: 0 0 0 0;\n",
              "      width: 32px;\n",
              "    }\n",
              "\n",
              "    .colab-df-convert:hover {\n",
              "      background-color: #E2EBFA;\n",
              "      box-shadow: 0px 1px 2px rgba(60, 64, 67, 0.3), 0px 1px 3px 1px rgba(60, 64, 67, 0.15);\n",
              "      fill: #174EA6;\n",
              "    }\n",
              "\n",
              "    [theme=dark] .colab-df-convert {\n",
              "      background-color: #3B4455;\n",
              "      fill: #D2E3FC;\n",
              "    }\n",
              "\n",
              "    [theme=dark] .colab-df-convert:hover {\n",
              "      background-color: #434B5C;\n",
              "      box-shadow: 0px 1px 3px 1px rgba(0, 0, 0, 0.15);\n",
              "      filter: drop-shadow(0px 1px 2px rgba(0, 0, 0, 0.3));\n",
              "      fill: #FFFFFF;\n",
              "    }\n",
              "  </style>\n",
              "\n",
              "      <script>\n",
              "        const buttonEl =\n",
              "          document.querySelector('#df-1f50d954-09d2-4107-b28b-193fa7a6e456 button.colab-df-convert');\n",
              "        buttonEl.style.display =\n",
              "          google.colab.kernel.accessAllowed ? 'block' : 'none';\n",
              "\n",
              "        async function convertToInteractive(key) {\n",
              "          const element = document.querySelector('#df-1f50d954-09d2-4107-b28b-193fa7a6e456');\n",
              "          const dataTable =\n",
              "            await google.colab.kernel.invokeFunction('convertToInteractive',\n",
              "                                                     [key], {});\n",
              "          if (!dataTable) return;\n",
              "\n",
              "          const docLinkHtml = 'Like what you see? Visit the ' +\n",
              "            '<a target=\"_blank\" href=https://colab.research.google.com/notebooks/data_table.ipynb>data table notebook</a>'\n",
              "            + ' to learn more about interactive tables.';\n",
              "          element.innerHTML = '';\n",
              "          dataTable['output_type'] = 'display_data';\n",
              "          await google.colab.output.renderOutput(dataTable, element);\n",
              "          const docLink = document.createElement('div');\n",
              "          docLink.innerHTML = docLinkHtml;\n",
              "          element.appendChild(docLink);\n",
              "        }\n",
              "      </script>\n",
              "    </div>\n",
              "  </div>\n",
              "  "
            ]
          },
          "metadata": {},
          "execution_count": 4
        }
      ]
    },
    {
      "cell_type": "code",
      "source": [
        "y = df['Status_H']\n",
        "X=df.drop(columns=['Status_H','K_M','K_H','Status_M'])\n"
      ],
      "metadata": {
        "id": "Lljz5J68Nngp"
      },
      "execution_count": 5,
      "outputs": []
    },
    {
      "cell_type": "code",
      "source": [
        "df.head()"
      ],
      "metadata": {
        "colab": {
          "base_uri": "https://localhost:8080/",
          "height": 334
        },
        "id": "Eq5QeclaOI9p",
        "outputId": "02295a85-07f3-434d-969c-a9f4c35b3fd5"
      },
      "execution_count": 6,
      "outputs": [
        {
          "output_type": "execute_result",
          "data": {
            "text/plain": [
              "   Edad    K1  K1 Eje    K2  K2 Eje    Km  KMAX     Q   IVA  K1.1  ...  \\\n",
              "0    24  42.6    36.7  44.6   126.7  43.6  45.3 -0.17  0.14  -5.9  ...   \n",
              "1    24  42.0   165.8  45.1    75.8  43.5  45.4 -0.27  0.07  -5.8  ...   \n",
              "2    20  41.7     1.9  48.3    91.9  44.7  50.4 -0.50  0.18  -5.9  ...   \n",
              "3    20  41.5   169.5  48.1    79.5  44.5  49.5 -0.52  0.17  -5.9  ...   \n",
              "4    23  41.9     7.5  42.9    97.5  42.4  43.4 -0.36  0.21  -6.2  ...   \n",
              "\n",
              "   COMA POST 0  COMA CORNEA 0  COMA ANT 90  COMA POST 90  COMA CORNEA 90  \\\n",
              "0       -0.026         -0.007       -0.362        -0.027          -0.429   \n",
              "1        0.039          0.016       -0.126        -0.055           0.191   \n",
              "2        0.002         -0.141        0.114        -0.026           0.113   \n",
              "3        0.015          0.251        0.040        -0.065          -0.006   \n",
              "4        0.039         -0.300       -0.127         0.024          -0.129   \n",
              "\n",
              "   TREFOIL 0º  TREFOIL 30º  TETRAFOIL 0º  TETRAFOIL 22,5º  ABERR. ESF  \n",
              "0       0.110        0.038        -0.035            0.122       0.253  \n",
              "1       0.080       -0.047        -0.029           -0.047       0.201  \n",
              "2      -0.091       -0.037        -0.292            0.035      -0.085  \n",
              "3       0.093        0.190        -0.165            0.040      -0.068  \n",
              "4       0.050        0.158        -0.104           -0.138       0.131  \n",
              "\n",
              "[5 rows x 38 columns]"
            ],
            "text/html": [
              "\n",
              "  <div id=\"df-921ba991-8b10-4fe1-817d-a96d24174f23\">\n",
              "    <div class=\"colab-df-container\">\n",
              "      <div>\n",
              "<style scoped>\n",
              "    .dataframe tbody tr th:only-of-type {\n",
              "        vertical-align: middle;\n",
              "    }\n",
              "\n",
              "    .dataframe tbody tr th {\n",
              "        vertical-align: top;\n",
              "    }\n",
              "\n",
              "    .dataframe thead th {\n",
              "        text-align: right;\n",
              "    }\n",
              "</style>\n",
              "<table border=\"1\" class=\"dataframe\">\n",
              "  <thead>\n",
              "    <tr style=\"text-align: right;\">\n",
              "      <th></th>\n",
              "      <th>Edad</th>\n",
              "      <th>K1</th>\n",
              "      <th>K1 Eje</th>\n",
              "      <th>K2</th>\n",
              "      <th>K2 Eje</th>\n",
              "      <th>Km</th>\n",
              "      <th>KMAX</th>\n",
              "      <th>Q</th>\n",
              "      <th>IVA</th>\n",
              "      <th>K1.1</th>\n",
              "      <th>...</th>\n",
              "      <th>COMA POST 0</th>\n",
              "      <th>COMA CORNEA 0</th>\n",
              "      <th>COMA ANT 90</th>\n",
              "      <th>COMA POST 90</th>\n",
              "      <th>COMA CORNEA 90</th>\n",
              "      <th>TREFOIL 0º</th>\n",
              "      <th>TREFOIL 30º</th>\n",
              "      <th>TETRAFOIL 0º</th>\n",
              "      <th>TETRAFOIL 22,5º</th>\n",
              "      <th>ABERR. ESF</th>\n",
              "    </tr>\n",
              "  </thead>\n",
              "  <tbody>\n",
              "    <tr>\n",
              "      <th>0</th>\n",
              "      <td>24</td>\n",
              "      <td>42.6</td>\n",
              "      <td>36.7</td>\n",
              "      <td>44.6</td>\n",
              "      <td>126.7</td>\n",
              "      <td>43.6</td>\n",
              "      <td>45.3</td>\n",
              "      <td>-0.17</td>\n",
              "      <td>0.14</td>\n",
              "      <td>-5.9</td>\n",
              "      <td>...</td>\n",
              "      <td>-0.026</td>\n",
              "      <td>-0.007</td>\n",
              "      <td>-0.362</td>\n",
              "      <td>-0.027</td>\n",
              "      <td>-0.429</td>\n",
              "      <td>0.110</td>\n",
              "      <td>0.038</td>\n",
              "      <td>-0.035</td>\n",
              "      <td>0.122</td>\n",
              "      <td>0.253</td>\n",
              "    </tr>\n",
              "    <tr>\n",
              "      <th>1</th>\n",
              "      <td>24</td>\n",
              "      <td>42.0</td>\n",
              "      <td>165.8</td>\n",
              "      <td>45.1</td>\n",
              "      <td>75.8</td>\n",
              "      <td>43.5</td>\n",
              "      <td>45.4</td>\n",
              "      <td>-0.27</td>\n",
              "      <td>0.07</td>\n",
              "      <td>-5.8</td>\n",
              "      <td>...</td>\n",
              "      <td>0.039</td>\n",
              "      <td>0.016</td>\n",
              "      <td>-0.126</td>\n",
              "      <td>-0.055</td>\n",
              "      <td>0.191</td>\n",
              "      <td>0.080</td>\n",
              "      <td>-0.047</td>\n",
              "      <td>-0.029</td>\n",
              "      <td>-0.047</td>\n",
              "      <td>0.201</td>\n",
              "    </tr>\n",
              "    <tr>\n",
              "      <th>2</th>\n",
              "      <td>20</td>\n",
              "      <td>41.7</td>\n",
              "      <td>1.9</td>\n",
              "      <td>48.3</td>\n",
              "      <td>91.9</td>\n",
              "      <td>44.7</td>\n",
              "      <td>50.4</td>\n",
              "      <td>-0.50</td>\n",
              "      <td>0.18</td>\n",
              "      <td>-5.9</td>\n",
              "      <td>...</td>\n",
              "      <td>0.002</td>\n",
              "      <td>-0.141</td>\n",
              "      <td>0.114</td>\n",
              "      <td>-0.026</td>\n",
              "      <td>0.113</td>\n",
              "      <td>-0.091</td>\n",
              "      <td>-0.037</td>\n",
              "      <td>-0.292</td>\n",
              "      <td>0.035</td>\n",
              "      <td>-0.085</td>\n",
              "    </tr>\n",
              "    <tr>\n",
              "      <th>3</th>\n",
              "      <td>20</td>\n",
              "      <td>41.5</td>\n",
              "      <td>169.5</td>\n",
              "      <td>48.1</td>\n",
              "      <td>79.5</td>\n",
              "      <td>44.5</td>\n",
              "      <td>49.5</td>\n",
              "      <td>-0.52</td>\n",
              "      <td>0.17</td>\n",
              "      <td>-5.9</td>\n",
              "      <td>...</td>\n",
              "      <td>0.015</td>\n",
              "      <td>0.251</td>\n",
              "      <td>0.040</td>\n",
              "      <td>-0.065</td>\n",
              "      <td>-0.006</td>\n",
              "      <td>0.093</td>\n",
              "      <td>0.190</td>\n",
              "      <td>-0.165</td>\n",
              "      <td>0.040</td>\n",
              "      <td>-0.068</td>\n",
              "    </tr>\n",
              "    <tr>\n",
              "      <th>4</th>\n",
              "      <td>23</td>\n",
              "      <td>41.9</td>\n",
              "      <td>7.5</td>\n",
              "      <td>42.9</td>\n",
              "      <td>97.5</td>\n",
              "      <td>42.4</td>\n",
              "      <td>43.4</td>\n",
              "      <td>-0.36</td>\n",
              "      <td>0.21</td>\n",
              "      <td>-6.2</td>\n",
              "      <td>...</td>\n",
              "      <td>0.039</td>\n",
              "      <td>-0.300</td>\n",
              "      <td>-0.127</td>\n",
              "      <td>0.024</td>\n",
              "      <td>-0.129</td>\n",
              "      <td>0.050</td>\n",
              "      <td>0.158</td>\n",
              "      <td>-0.104</td>\n",
              "      <td>-0.138</td>\n",
              "      <td>0.131</td>\n",
              "    </tr>\n",
              "  </tbody>\n",
              "</table>\n",
              "<p>5 rows × 38 columns</p>\n",
              "</div>\n",
              "      <button class=\"colab-df-convert\" onclick=\"convertToInteractive('df-921ba991-8b10-4fe1-817d-a96d24174f23')\"\n",
              "              title=\"Convert this dataframe to an interactive table.\"\n",
              "              style=\"display:none;\">\n",
              "        \n",
              "  <svg xmlns=\"http://www.w3.org/2000/svg\" height=\"24px\"viewBox=\"0 0 24 24\"\n",
              "       width=\"24px\">\n",
              "    <path d=\"M0 0h24v24H0V0z\" fill=\"none\"/>\n",
              "    <path d=\"M18.56 5.44l.94 2.06.94-2.06 2.06-.94-2.06-.94-.94-2.06-.94 2.06-2.06.94zm-11 1L8.5 8.5l.94-2.06 2.06-.94-2.06-.94L8.5 2.5l-.94 2.06-2.06.94zm10 10l.94 2.06.94-2.06 2.06-.94-2.06-.94-.94-2.06-.94 2.06-2.06.94z\"/><path d=\"M17.41 7.96l-1.37-1.37c-.4-.4-.92-.59-1.43-.59-.52 0-1.04.2-1.43.59L10.3 9.45l-7.72 7.72c-.78.78-.78 2.05 0 2.83L4 21.41c.39.39.9.59 1.41.59.51 0 1.02-.2 1.41-.59l7.78-7.78 2.81-2.81c.8-.78.8-2.07 0-2.86zM5.41 20L4 18.59l7.72-7.72 1.47 1.35L5.41 20z\"/>\n",
              "  </svg>\n",
              "      </button>\n",
              "      \n",
              "  <style>\n",
              "    .colab-df-container {\n",
              "      display:flex;\n",
              "      flex-wrap:wrap;\n",
              "      gap: 12px;\n",
              "    }\n",
              "\n",
              "    .colab-df-convert {\n",
              "      background-color: #E8F0FE;\n",
              "      border: none;\n",
              "      border-radius: 50%;\n",
              "      cursor: pointer;\n",
              "      display: none;\n",
              "      fill: #1967D2;\n",
              "      height: 32px;\n",
              "      padding: 0 0 0 0;\n",
              "      width: 32px;\n",
              "    }\n",
              "\n",
              "    .colab-df-convert:hover {\n",
              "      background-color: #E2EBFA;\n",
              "      box-shadow: 0px 1px 2px rgba(60, 64, 67, 0.3), 0px 1px 3px 1px rgba(60, 64, 67, 0.15);\n",
              "      fill: #174EA6;\n",
              "    }\n",
              "\n",
              "    [theme=dark] .colab-df-convert {\n",
              "      background-color: #3B4455;\n",
              "      fill: #D2E3FC;\n",
              "    }\n",
              "\n",
              "    [theme=dark] .colab-df-convert:hover {\n",
              "      background-color: #434B5C;\n",
              "      box-shadow: 0px 1px 3px 1px rgba(0, 0, 0, 0.15);\n",
              "      filter: drop-shadow(0px 1px 2px rgba(0, 0, 0, 0.3));\n",
              "      fill: #FFFFFF;\n",
              "    }\n",
              "  </style>\n",
              "\n",
              "      <script>\n",
              "        const buttonEl =\n",
              "          document.querySelector('#df-921ba991-8b10-4fe1-817d-a96d24174f23 button.colab-df-convert');\n",
              "        buttonEl.style.display =\n",
              "          google.colab.kernel.accessAllowed ? 'block' : 'none';\n",
              "\n",
              "        async function convertToInteractive(key) {\n",
              "          const element = document.querySelector('#df-921ba991-8b10-4fe1-817d-a96d24174f23');\n",
              "          const dataTable =\n",
              "            await google.colab.kernel.invokeFunction('convertToInteractive',\n",
              "                                                     [key], {});\n",
              "          if (!dataTable) return;\n",
              "\n",
              "          const docLinkHtml = 'Like what you see? Visit the ' +\n",
              "            '<a target=\"_blank\" href=https://colab.research.google.com/notebooks/data_table.ipynb>data table notebook</a>'\n",
              "            + ' to learn more about interactive tables.';\n",
              "          element.innerHTML = '';\n",
              "          dataTable['output_type'] = 'display_data';\n",
              "          await google.colab.output.renderOutput(dataTable, element);\n",
              "          const docLink = document.createElement('div');\n",
              "          docLink.innerHTML = docLinkHtml;\n",
              "          element.appendChild(docLink);\n",
              "        }\n",
              "      </script>\n",
              "    </div>\n",
              "  </div>\n",
              "  "
            ]
          },
          "metadata": {},
          "execution_count": 6
        }
      ]
    },
    {
      "cell_type": "code",
      "source": [
        "from sklearn.model_selection import train_test_split\n",
        "X_train, X_test, y_train, y_test = train_test_split(X, y, test_size=0.3)"
      ],
      "metadata": {
        "id": "VgiH32VLOOwV"
      },
      "execution_count": 7,
      "outputs": []
    },
    {
      "cell_type": "code",
      "source": [
        "# Create adaboost classifer object\n",
        "abc = AdaBoostClassifier(n_estimators=50,\n",
        "                         learning_rate=1)\n",
        "# Train Adaboost Classifer\n",
        "model = abc.fit(X_train, y_train)\n",
        "\n",
        "#Predict the response for test dataset\n",
        "y_pred = model.predict(X_test)"
      ],
      "metadata": {
        "id": "tfMhkGP1VLNt"
      },
      "execution_count": 8,
      "outputs": []
    },
    {
      "cell_type": "code",
      "source": [
        "# Model Accuracy, how often is the classifier correct?\n",
        "print(\"Accuracy:\",metrics.accuracy_score(y_test, y_pred))"
      ],
      "metadata": {
        "id": "DfKsBfXXW4Jc",
        "outputId": "7d2533f8-ca16-460d-d033-bd045790460c",
        "colab": {
          "base_uri": "https://localhost:8080/"
        }
      },
      "execution_count": 9,
      "outputs": [
        {
          "output_type": "stream",
          "name": "stdout",
          "text": [
            "Accuracy: 0.962877030162413\n"
          ]
        }
      ]
    },
    {
      "cell_type": "code",
      "source": [
        "predictions = model.predict(X_test)\n",
        "print(predictions)"
      ],
      "metadata": {
        "id": "GrcU59AJZLVR",
        "outputId": "c0286548-88a4-4aed-940a-a5ba59d8cad4",
        "colab": {
          "base_uri": "https://localhost:8080/"
        }
      },
      "execution_count": 10,
      "outputs": [
        {
          "output_type": "stream",
          "name": "stdout",
          "text": [
            "[1 1 0 1 1 0 1 0 1 1 0 0 1 1 0 0 1 1 0 1 0 1 1 0 1 0 0 1 0 1 0 1 1 1 1 0 1\n",
            " 1 1 1 1 0 1 1 0 1 1 0 0 1 1 1 0 1 0 1 1 0 1 0 0 1 1 0 1 0 0 1 1 1 0 1 0 1\n",
            " 0 0 1 1 0 1 0 0 0 1 0 0 1 1 0 1 0 1 0 0 0 0 1 1 0 1 0 1 0 1 0 0 0 1 0 1 0\n",
            " 0 0 0 1 0 0 1 1 1 1 1 1 0 0 0 0 1 0 0 0 1 1 1 1 0 1 0 0 1 0 0 0 1 0 1 0 0\n",
            " 1 0 1 0 1 0 1 1 0 0 0 1 0 1 1 0 0 1 0 0 0 0 0 0 0 1 1 0 1 1 1 1 0 1 1 0 1\n",
            " 0 1 0 0 1 0 1 1 1 1 0 0 0 0 0 0 0 0 0 0 1 0 0 0 1 0 1 0 1 0 0 1 1 1 1 1 0\n",
            " 0 1 1 0 1 1 1 0 0 0 0 0 0 0 0 1 1 0 0 0 1 0 0 1 0 1 1 1 1 0 0 1 0 0 1 0 0\n",
            " 0 0 1 0 0 1 0 1 0 0 0 1 1 1 0 1 1 0 1 0 0 0 1 0 1 1 1 0 1 0 0 1 1 0 1 1 0\n",
            " 0 0 1 0 1 0 0 0 1 0 0 0 0 1 1 0 1 0 1 1 1 1 1 0 0 1 0 1 0 1 0 1 0 0 1 1 0\n",
            " 1 1 0 0 0 0 1 0 1 0 0 1 1 1 0 0 0 1 1 1 1 0 1 0 1 1 1 0 0 0 0 0 1 1 0 1 0\n",
            " 0 0 1 1 0 0 0 0 0 1 0 0 0 1 1 0 1 0 1 0 0 0 0 1 0 1 0 0 0 0 0 1 0 0 0 0 0\n",
            " 1 1 1 0 0 1 0 0 1 1 1 1 0 1 0 0 1 0 0 0 0 1 0 1]\n"
          ]
        }
      ]
    },
    {
      "cell_type": "code",
      "source": [
        "percentage = model.score(X_test, y_test)"
      ],
      "metadata": {
        "id": "QKEL2TTMZQsI"
      },
      "execution_count": 11,
      "outputs": []
    },
    {
      "cell_type": "code",
      "source": [
        "from sklearn.metrics import confusion_matrix\n",
        "res = confusion_matrix(y_test, predictions)\n",
        "print(\"Confusion Matrix\")\n",
        "print(res)\n",
        "print(f\"Test Set: {len(X_test)}\")\n",
        "print(f\"Accuracy = {percentage*100} %\")"
      ],
      "metadata": {
        "id": "ijNWJh2RZT-0",
        "outputId": "f2ab61bd-fb6e-421a-f9e0-76e24ac8f1c5",
        "colab": {
          "base_uri": "https://localhost:8080/"
        }
      },
      "execution_count": 12,
      "outputs": [
        {
          "output_type": "stream",
          "name": "stdout",
          "text": [
            "Confusion Matrix\n",
            "[[218   2]\n",
            " [ 14 197]]\n",
            "Test Set: 431\n",
            "Accuracy = 96.2877030162413 %\n"
          ]
        }
      ]
    },
    {
      "cell_type": "code",
      "source": [
        "from sklearn.metrics import classification_report, confusion_matrix\n",
        "#print(confusion_matrix(y_test, predictions))\n",
        "print(classification_report(y_test, predictions))"
      ],
      "metadata": {
        "id": "enYdwE3HZZ4h",
        "outputId": "ab6f0e5a-35cf-4180-b15c-ba1117478347",
        "colab": {
          "base_uri": "https://localhost:8080/"
        }
      },
      "execution_count": 13,
      "outputs": [
        {
          "output_type": "stream",
          "name": "stdout",
          "text": [
            "              precision    recall  f1-score   support\n",
            "\n",
            "           0       0.94      0.99      0.96       220\n",
            "           1       0.99      0.93      0.96       211\n",
            "\n",
            "    accuracy                           0.96       431\n",
            "   macro avg       0.96      0.96      0.96       431\n",
            "weighted avg       0.96      0.96      0.96       431\n",
            "\n"
          ]
        }
      ]
    },
    {
      "cell_type": "code",
      "source": [
        "probs = model.predict_proba(X_test)"
      ],
      "metadata": {
        "id": "fpH9oKUK5ZXb"
      },
      "execution_count": 14,
      "outputs": []
    },
    {
      "cell_type": "code",
      "source": [
        "probs = probs[:, 1]"
      ],
      "metadata": {
        "id": "AYnfNuhl5n6I"
      },
      "execution_count": 15,
      "outputs": []
    },
    {
      "cell_type": "code",
      "source": [
        "from sklearn.metrics import roc_curve\n",
        "from sklearn.metrics import roc_auc_score\n",
        "def plot_roc_curve(fpr, tpr):\n",
        "    plt.plot(fpr, tpr, color='orange', label='ROC')\n",
        "    plt.plot([0, 1], [0, 1], color='darkblue', linestyle='--')\n",
        "    plt.xlabel('False Positive Rate')\n",
        "    plt.ylabel('True Positive Rate')\n",
        "    plt.title('Receiver Operating Characteristic (ROC) Curve')\n",
        "    plt.legend()\n",
        "    plt.show()\n"
      ],
      "metadata": {
        "id": "i5WYbSD45ugr"
      },
      "execution_count": 16,
      "outputs": []
    },
    {
      "cell_type": "code",
      "source": [
        "auc = roc_auc_score(y_test, probs)\n",
        "print('AUC: %.2f' % auc)"
      ],
      "metadata": {
        "id": "-NNr59iS5ygI",
        "outputId": "ff2420be-9ec3-4cf8-8fb8-7d451c933e66",
        "colab": {
          "base_uri": "https://localhost:8080/"
        }
      },
      "execution_count": 17,
      "outputs": [
        {
          "output_type": "stream",
          "name": "stdout",
          "text": [
            "AUC: 0.99\n"
          ]
        }
      ]
    },
    {
      "cell_type": "code",
      "source": [
        "fpr, tpr, thresholds = roc_curve(y_test, probs)"
      ],
      "metadata": {
        "id": "8XjG6ET25yw2"
      },
      "execution_count": 18,
      "outputs": []
    },
    {
      "cell_type": "code",
      "source": [
        "plot_roc_curve(fpr, tpr)"
      ],
      "metadata": {
        "id": "LRw6NHl556si",
        "outputId": "184edb9c-f0ba-4ddd-f943-e8bb61a55547",
        "colab": {
          "base_uri": "https://localhost:8080/",
          "height": 295
        }
      },
      "execution_count": 19,
      "outputs": [
        {
          "output_type": "display_data",
          "data": {
            "text/plain": [
              "<Figure size 432x288 with 1 Axes>"
            ],
            "image/png": "[encoded data removed]"
          },
          "metadata": {
            "needs_background": "light"
          }
        }
      ]
    },
    {
      "cell_type": "code",
      "source": [
        "import seaborn as sns\n",
        "sns.heatmap(res, annot=True)"
      ],
      "metadata": {
        "id": "oIp27QUDZh6o",
        "outputId": "ae181cc8-2c45-44df-d802-cecf76bd128e",
        "colab": {
          "base_uri": "https://localhost:8080/",
          "height": 282
        }
      },
      "execution_count": 20,
      "outputs": [
        {
          "output_type": "execute_result",
          "data": {
            "text/plain": [
              "<matplotlib.axes._subplots.AxesSubplot at 0x7f42e14aae50>"
            ]
          },
          "metadata": {},
          "execution_count": 20
        },
        {
          "output_type": "display_data",
          "data": {
            "text/plain": [
              "<Figure size 432x288 with 2 Axes>"
            ],
            "image/png": "[encoded data removed]"
          },
          "metadata": {
            "needs_background": "light"
          }
        }
      ]
    },
    {
      "cell_type": "code",
      "source": [
        "data = pd.read_csv('/content/KeratoConusDATASET.csv')\n",
        "\n",
        "corr = data.corr()\n",
        "ax = sns.heatmap(\n",
        "    corr, \n",
        "    vmin=-1, vmax=1, center=0,\n",
        "    cmap=sns.diverging_palette(20, 220, n=200),\n",
        "    square=True\n",
        ")\n",
        "ax.set_xticklabels(\n",
        "    ax.get_xticklabels(),\n",
        "    rotation=45,\n",
        "    horizontalalignment='right'\n",
        ");"
      ],
      "metadata": {
        "id": "fslBfhKZZoTD",
        "outputId": "476b6071-98f3-4954-da16-5d09e5445e70",
        "colab": {
          "base_uri": "https://localhost:8080/",
          "height": 348
        }
      },
      "execution_count": 21,
      "outputs": [
        {
          "output_type": "display_data",
          "data": {
            "text/plain": [
              "<Figure size 432x288 with 2 Axes>"
            ],
            "image/png": "[encoded data removed]"
          },
          "metadata": {
            "needs_background": "light"
          }
        }
      ]
    },
    {
      "cell_type": "code",
      "source": [
        "import seaborn as sns\n",
        "sns.countplot(data = df\n",
        "            ,x = 'Status_H'\n",
        "            )"
      ],
      "metadata": {
        "id": "dBuRKPwC8Sje",
        "outputId": "2ab609ca-67f4-4298-a036-02ab8b1da6c5",
        "colab": {
          "base_uri": "https://localhost:8080/",
          "height": 297
        }
      },
      "execution_count": 24,
      "outputs": [
        {
          "output_type": "execute_result",
          "data": {
            "text/plain": [
              "<matplotlib.axes._subplots.AxesSubplot at 0x7f42de886a90>"
            ]
          },
          "metadata": {},
          "execution_count": 24
        },
        {
          "output_type": "display_data",
          "data": {
            "text/plain": [
              "<Figure size 432x288 with 1 Axes>"
            ],
            "image/png": "[encoded data removed]"
          },
          "metadata": {
            "needs_background": "light"
          }
        }
      ]
    }
  ]
}